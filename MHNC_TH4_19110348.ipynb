{
  "cells": [
    {
      "cell_type": "code",
      "execution_count": null,
      "metadata": {
        "id": "yl0gUIzOzx7b"
      },
      "outputs": [],
      "source": [
        "from __future__ import absolute_import, division, print_function, unicode_literals"
      ]
    },
    {
      "cell_type": "code",
      "execution_count": null,
      "metadata": {
        "id": "Xs0NEUCT2d9m"
      },
      "outputs": [],
      "source": [
        "#pip install tensorflow\n",
        "import tensorflow as tf"
      ]
    },
    {
      "cell_type": "code",
      "execution_count": null,
      "metadata": {
        "colab": {
          "base_uri": "https://localhost:8080/",
          "height": 424
        },
        "id": "eAiJ-TzYz7NE",
        "outputId": "eea63d03-3bef-4b91-c587-f0d594683dad"
      },
      "outputs": [
        {
          "data": {
            "text/html": [
              "<div>\n",
              "<style scoped>\n",
              "    .dataframe tbody tr th:only-of-type {\n",
              "        vertical-align: middle;\n",
              "    }\n",
              "\n",
              "    .dataframe tbody tr th {\n",
              "        vertical-align: top;\n",
              "    }\n",
              "\n",
              "    .dataframe thead th {\n",
              "        text-align: right;\n",
              "    }\n",
              "</style>\n",
              "<table border=\"1\" class=\"dataframe\">\n",
              "  <thead>\n",
              "    <tr style=\"text-align: right;\">\n",
              "      <th></th>\n",
              "      <th>Text</th>\n",
              "      <th>Label</th>\n",
              "      <th>y</th>\n",
              "    </tr>\n",
              "  </thead>\n",
              "  <tbody>\n",
              "    <tr>\n",
              "      <th>0</th>\n",
              "      <td>Go until jurong point, crazy.. Available only ...</td>\n",
              "      <td>ham</td>\n",
              "      <td>0</td>\n",
              "    </tr>\n",
              "    <tr>\n",
              "      <th>1</th>\n",
              "      <td>Ok lar... Joking wif u oni...</td>\n",
              "      <td>ham</td>\n",
              "      <td>0</td>\n",
              "    </tr>\n",
              "    <tr>\n",
              "      <th>2</th>\n",
              "      <td>Free entry in 2 a wkly comp to win FA Cup fina...</td>\n",
              "      <td>spam</td>\n",
              "      <td>1</td>\n",
              "    </tr>\n",
              "    <tr>\n",
              "      <th>3</th>\n",
              "      <td>U dun say so early hor... U c already then say...</td>\n",
              "      <td>ham</td>\n",
              "      <td>0</td>\n",
              "    </tr>\n",
              "    <tr>\n",
              "      <th>4</th>\n",
              "      <td>Nah I don't think he goes to usf, he lives aro...</td>\n",
              "      <td>ham</td>\n",
              "      <td>0</td>\n",
              "    </tr>\n",
              "    <tr>\n",
              "      <th>...</th>\n",
              "      <td>...</td>\n",
              "      <td>...</td>\n",
              "      <td>...</td>\n",
              "    </tr>\n",
              "    <tr>\n",
              "      <th>5569</th>\n",
              "      <td>This is the 2nd time we have tried 2 contact u...</td>\n",
              "      <td>spam</td>\n",
              "      <td>1</td>\n",
              "    </tr>\n",
              "    <tr>\n",
              "      <th>5570</th>\n",
              "      <td>Will Ã¼ b going to esplanade fr home?</td>\n",
              "      <td>ham</td>\n",
              "      <td>0</td>\n",
              "    </tr>\n",
              "    <tr>\n",
              "      <th>5571</th>\n",
              "      <td>Pity, * was in mood for that. So...any other s...</td>\n",
              "      <td>ham</td>\n",
              "      <td>0</td>\n",
              "    </tr>\n",
              "    <tr>\n",
              "      <th>5572</th>\n",
              "      <td>The guy did some bitching but I acted like i'd...</td>\n",
              "      <td>ham</td>\n",
              "      <td>0</td>\n",
              "    </tr>\n",
              "    <tr>\n",
              "      <th>5573</th>\n",
              "      <td>Rofl. Its true to its name</td>\n",
              "      <td>ham</td>\n",
              "      <td>0</td>\n",
              "    </tr>\n",
              "  </tbody>\n",
              "</table>\n",
              "<p>5574 rows × 3 columns</p>\n",
              "</div>"
            ],
            "text/plain": [
              "                                                   Text Label  y\n",
              "0     Go until jurong point, crazy.. Available only ...   ham  0\n",
              "1                         Ok lar... Joking wif u oni...   ham  0\n",
              "2     Free entry in 2 a wkly comp to win FA Cup fina...  spam  1\n",
              "3     U dun say so early hor... U c already then say...   ham  0\n",
              "4     Nah I don't think he goes to usf, he lives aro...   ham  0\n",
              "...                                                 ...   ... ..\n",
              "5569  This is the 2nd time we have tried 2 contact u...  spam  1\n",
              "5570              Will Ã¼ b going to esplanade fr home?   ham  0\n",
              "5571  Pity, * was in mood for that. So...any other s...   ham  0\n",
              "5572  The guy did some bitching but I acted like i'd...   ham  0\n",
              "5573                         Rofl. Its true to its name   ham  0\n",
              "\n",
              "[5574 rows x 3 columns]"
            ]
          },
          "execution_count": 78,
          "metadata": {},
          "output_type": "execute_result"
        }
      ],
      "source": [
        "import pandas as pd\n",
        "import numpy as np\n",
        "import nltk\n",
        "from zipfile import ZipFile\n",
        "df = pd.read_csv(\"https://raw.githubusercontent.com/huynhthanh98/AML-2022/main/Lab-04/spam_detection.csv\")\n",
        "df"
      ]
    },
    {
      "cell_type": "code",
      "execution_count": null,
      "metadata": {
        "colab": {
          "base_uri": "https://localhost:8080/"
        },
        "id": "MCzTM1A8z7KW",
        "outputId": "06df6b5e-1f9b-4b06-c0fc-2ac51f47baf9"
      },
      "outputs": [
        {
          "name": "stderr",
          "output_type": "stream",
          "text": [
            "[nltk_data] Downloading package punkt to\n",
            "[nltk_data]     C:\\Users\\DangKhoa\\AppData\\Roaming\\nltk_data...\n",
            "[nltk_data]   Package punkt is already up-to-date!\n"
          ]
        },
        {
          "name": "stdout",
          "output_type": "stream",
          "text": [
            "['go', 'until', 'jurong', 'point', ',', 'crazy', '..', 'available', 'only', 'in', 'bugis', 'n', 'great', 'world', 'la', 'e', 'buffet', '...', 'cine', 'there', 'got', 'amore', 'wat', '...']\n"
          ]
        }
      ],
      "source": [
        "nltk.download('punkt')\n",
        "texts = df[\"Text\"].to_list()\n",
        "texts = [text.lower() for text in texts ]          \n",
        "tokenized_texts = [nltk.tokenize.word_tokenize(text) for text in texts]    \n",
        "\n",
        "print(tokenized_texts[0])"
      ]
    },
    {
      "cell_type": "code",
      "execution_count": null,
      "metadata": {
        "id": "6RESII0jz7Bo"
      },
      "outputs": [],
      "source": [
        "import io\n",
        "import numpy as np\n",
        "def load_word_embeddings(fname):\n",
        "    fin = io.open(fname, 'r', encoding='utf-8', newline='\\n', errors='ignore')\n",
        "    vocab, matrix = [], []\n",
        "    i=0\n",
        "    for line in fin:\n",
        "        tokens = line.rstrip().split(' ')\n",
        "        vocab.append(tokens[0])\n",
        "        matrix.append(list(map(float, tokens[1:])))\n",
        "    return vocab, np.asarray(matrix)"
      ]
    },
    {
      "cell_type": "code",
      "execution_count": null,
      "metadata": {
        "id": "SgdKMu-Tz6-o"
      },
      "outputs": [],
      "source": [
        "vocab, matrix = load_word_embeddings(\"glove.6B.300d.txt\")"
      ]
    },
    {
      "cell_type": "code",
      "execution_count": null,
      "metadata": {
        "id": "LcTTr8Q2z6lq"
      },
      "outputs": [],
      "source": [
        "## Gán các mã\n",
        "__PADDED_INDEX__ = 0   \n",
        "__UNKNOWN_WORD__ = 1    "
      ]
    },
    {
      "cell_type": "code",
      "execution_count": null,
      "metadata": {
        "id": "EjkEW6H_z6iI"
      },
      "outputs": [],
      "source": [
        "# Tạo một dictionary\n",
        "word_to_index = {word: index+2 for index, word in enumerate(vocab)}"
      ]
    },
    {
      "cell_type": "code",
      "execution_count": null,
      "metadata": {
        "id": "cTHye9dI37FF",
        "outputId": "e33fdc3b-e20d-41c9-c0eb-e696d75f55a8"
      },
      "outputs": [
        {
          "name": "stdout",
          "output_type": "stream",
          "text": [
            "(400002, 300)\n"
          ]
        }
      ],
      "source": [
        "embedding_matrix = np.pad(matrix, [[2,0],[0,0]], mode='constant', constant_values =0.0)\n",
        "print(embedding_matrix.shape)"
      ]
    },
    {
      "cell_type": "code",
      "execution_count": null,
      "metadata": {
        "id": "X9nZza5X368l"
      },
      "outputs": [],
      "source": [
        "## Bây giờ ta sẽ chuyển data spam dection thành các mã số\n",
        "import tensorflow as tf\n",
        "\n",
        "X = []\n",
        "for text in tokenized_texts:\n",
        "    cur_text_indices = []\n",
        "    for word in text:\n",
        "        if word in word_to_index:\n",
        "            cur_text_indices.append(word_to_index[word])    ## map từ word sang index\n",
        "        else:\n",
        "            cur_text_indices.append(__UNKNOWN_WORD__)       ## gán unknown cho từ không có trong bộ glove\n",
        "    X.append(cur_text_indices)\n",
        "\n",
        "## pad data cho có cùng chiều dài\n",
        "X = tf.keras.preprocessing.sequence.pad_sequences(sequences=X,       # sequences: list các câu có độ dài không bằng nhau\n",
        "                                                  padding='post')    # vị trí pad là 'pre' (trước) hoặc 'post' (sau)\n",
        "\n",
        "y = df['y'].values   ## Label của bài toán, 0 là không phải spam, 1 là spam"
      ]
    },
    {
      "cell_type": "code",
      "execution_count": null,
      "metadata": {
        "id": "HqBCldI8364q"
      },
      "outputs": [],
      "source": [
        "## Chia data\n",
        "from sklearn.model_selection import train_test_split\n",
        "X_train, X_valid, y_train, y_valid = train_test_split(X, y, test_size= 0.2, random_state =0)"
      ]
    },
    {
      "cell_type": "markdown",
      "metadata": {
        "id": "4Ak9zcP2Qu45"
      },
      "source": [
        "# Mô Hình "
      ]
    },
    {
      "cell_type": "code",
      "execution_count": null,
      "metadata": {
        "id": "es22G2DA361S",
        "outputId": "ee76dcc3-1b40-4804-ea66-2c1fe016dff5"
      },
      "outputs": [
        {
          "name": "stdout",
          "output_type": "stream",
          "text": [
            "Model: \"model_2\"\n",
            "_________________________________________________________________\n",
            " Layer (type)                Output Shape              Param #   \n",
            "=================================================================\n",
            " input_3 (InputLayer)        [(None, None)]            0         \n",
            "                                                                 \n",
            " embedding_2 (Embedding)     (None, None, 300)         120000600 \n",
            "                                                                 \n",
            " lstm_2 (LSTM)               (None, 100)               160400    \n",
            "                                                                 \n",
            " dense_2 (Dense)             (None, 2)                 202       \n",
            "                                                                 \n",
            "=================================================================\n",
            "Total params: 120,161,202\n",
            "Trainable params: 120,161,202\n",
            "Non-trainable params: 0\n",
            "_________________________________________________________________\n"
          ]
        }
      ],
      "source": [
        "from tensorflow.keras.layers import Input, Embedding, LSTM, Bidirectional, Dense\n",
        "from tensorflow.keras.models import Model\n",
        "\n",
        "inputs = Input(shape=(None,))                   \n",
        "\n",
        "embed = Embedding(input_dim=embedding_matrix.shape[0],   \n",
        "                 output_dim=embedding_matrix.shape[1],   \n",
        "                  embeddings_initializer = tf.keras.initializers.Constant(value=embedding_matrix),  ## Khởi tạo cho embedding bằng ma trận có sẵn\n",
        "                  trainable= True,                       \n",
        "                 mask_zero=True)(inputs)                 \n",
        "\n",
        "lstm = LSTM(units=100,                          ## units: kích thước của hidden_state trong LSTM\n",
        "            return_sequences=False)(embed)      ## return_sequences: LSTM trả về toàn bộ  hay là trả về hidden_state cuối cùng\n",
        "\n",
        "dense = Dense(units=2, activation='softmax')(lstm)\n",
        "model = Model(inputs=inputs,\n",
        "              outputs=dense)\n",
        "\n",
        "model.compile(optimizer='adam',\n",
        "             loss='sparse_categorical_crossentropy',\n",
        "             metrics=['accuracy'])\n",
        "model.summary()"
      ]
    },
    {
      "cell_type": "code",
      "execution_count": null,
      "metadata": {
        "id": "cYP7hwaIQl16",
        "outputId": "708eb8d5-d8e2-4d61-8861-aa08cafe4838"
      },
      "outputs": [
        {
          "name": "stdout",
          "output_type": "stream",
          "text": [
            "Epoch 1/10\n",
            "56/56 [==============================] - 203s 4s/step - loss: 0.1734 - accuracy: 0.9379 - val_loss: 0.0835 - val_accuracy: 0.9749\n",
            "Epoch 2/10\n",
            "56/56 [==============================] - 203s 4s/step - loss: 0.0492 - accuracy: 0.9856 - val_loss: 0.0560 - val_accuracy: 0.9839\n",
            "Epoch 3/10\n",
            "56/56 [==============================] - 192s 3s/step - loss: 0.0242 - accuracy: 0.9928 - val_loss: 0.0437 - val_accuracy: 0.9910\n",
            "Epoch 4/10\n",
            "56/56 [==============================] - 201s 4s/step - loss: 0.0137 - accuracy: 0.9960 - val_loss: 0.0431 - val_accuracy: 0.9883\n",
            "Epoch 5/10\n",
            "56/56 [==============================] - 114s 2s/step - loss: 0.0076 - accuracy: 0.9978 - val_loss: 0.0584 - val_accuracy: 0.9874\n",
            "Epoch 6/10\n",
            "56/56 [==============================] - 114s 2s/step - loss: 0.0043 - accuracy: 0.9987 - val_loss: 0.0533 - val_accuracy: 0.9901\n",
            "Epoch 7/10\n",
            "56/56 [==============================] - 116s 2s/step - loss: 0.0050 - accuracy: 0.9969 - val_loss: 0.0569 - val_accuracy: 0.9794\n",
            "Epoch 8/10\n",
            "56/56 [==============================] - 114s 2s/step - loss: 0.0121 - accuracy: 0.9955 - val_loss: 0.0504 - val_accuracy: 0.9839\n",
            "Epoch 9/10\n",
            "56/56 [==============================] - 116s 2s/step - loss: 0.0030 - accuracy: 0.9987 - val_loss: 0.0555 - val_accuracy: 0.9874\n",
            "Epoch 10/10\n",
            "56/56 [==============================] - 119s 2s/step - loss: 0.0014 - accuracy: 0.9991 - val_loss: 0.0580 - val_accuracy: 0.9865\n"
          ]
        },
        {
          "data": {
            "text/plain": [
              "<keras.callbacks.History at 0x2379224abb0>"
            ]
          },
          "execution_count": 88,
          "metadata": {},
          "output_type": "execute_result"
        }
      ],
      "source": [
        "mc = tf.keras.callbacks.ModelCheckpoint(filepath=\"lstm_spam.h5\", \n",
        "                                     monitor='val_loss',\n",
        "                                     mode='min', \n",
        "                                     verbose=0, \n",
        "                                     save_best_only=True)\n",
        "# Train\n",
        "model.fit(X_train, y_train, \n",
        "          validation_data=(X_valid, y_valid),\n",
        "         epochs=10,\n",
        "          batch_size=80,\n",
        "         callbacks=[mc])\n",
        "\n"
      ]
    },
    {
      "cell_type": "code",
      "execution_count": null,
      "metadata": {
        "id": "ZkEA66Jg2d9u",
        "outputId": "63ecc353-c280-4579-da82-60107f091357"
      },
      "outputs": [
        {
          "name": "stdout",
          "output_type": "stream",
          "text": [
            "35/35 [==============================] - 2s 69ms/step - loss: 0.0431 - accuracy: 0.9883\n",
            "Accuracy on valid:  0.9883407950401306\n"
          ]
        }
      ],
      "source": [
        "# Test\n",
        "model.load_weights(\"lstm_spam.h5\")\n",
        "_, val_acc = model.evaluate(X_valid, y_valid)\n",
        "print(\"Accuracy on valid: \", val_acc)"
      ]
    },
    {
      "cell_type": "code",
      "execution_count": null,
      "metadata": {
        "id": "e5kHNgSkQly4"
      },
      "outputs": [],
      "source": [
        "from keras.preprocessing.text import Tokenizer\n",
        "\n",
        "def Model_Predict(sentence):\n",
        "    # Creating a tokenizer\n",
        "    tokenizer = Tokenizer(lower=True)\n",
        "\n",
        "    # Building word indices\n",
        "    tokenizer.fit_on_texts(sentence)\n",
        "\n",
        "    # Tokenizing sentences\n",
        "    sentences_test = tokenizer.texts_to_sequences(sentence)\n",
        "    padded = tf.keras.preprocessing.sequence.pad_sequences(sequences=sentences_test,  padding='post', truncating = \"post\")\n",
        "    \n",
        "    pred = model.predict(padded)\n",
        "    for i in range(0,1):\n",
        "        for j in range(0,2):\n",
        "            if pred[i][j] >= 0.5:\n",
        "                return True\n",
        "            else:\n",
        "                return False"
      ]
    },
    {
      "cell_type": "code",
      "execution_count": null,
      "metadata": {
        "id": "idgeG69H2d9u"
      },
      "outputs": [],
      "source": [
        "#Testing"
      ]
    },
    {
      "cell_type": "code",
      "execution_count": null,
      "metadata": {
        "id": "PrfRBTKKQltP"
      },
      "outputs": [],
      "source": [
        "sentence_1 = [\"wanna ask something? just send me a mess\"]\n",
        "sentence_2 = [\"Urgent! You have won our competition's prize!! Please call us now.\"]\n",
        "sentence_3 = [\"Call me to get a free holiday now\"]"
      ]
    },
    {
      "cell_type": "code",
      "execution_count": null,
      "metadata": {
        "id": "5ecdzmJ82d9v",
        "outputId": "df90f3e3-381a-4af5-fbc1-57c5d42a53f0"
      },
      "outputs": [
        {
          "name": "stdout",
          "output_type": "stream",
          "text": [
            "1/1 [==============================] - 2s 2s/step\n"
          ]
        },
        {
          "data": {
            "text/plain": [
              "True"
            ]
          },
          "execution_count": 93,
          "metadata": {},
          "output_type": "execute_result"
        }
      ],
      "source": [
        "model_predict(sentence_1)"
      ]
    },
    {
      "cell_type": "code",
      "execution_count": null,
      "metadata": {
        "id": "S7g9KGs82d9v",
        "outputId": "6df36c70-2d38-47d5-9f82-967c07c0db19"
      },
      "outputs": [
        {
          "name": "stdout",
          "output_type": "stream",
          "text": [
            "1/1 [==============================] - 1s 1s/step\n"
          ]
        },
        {
          "data": {
            "text/plain": [
              "False"
            ]
          },
          "execution_count": 94,
          "metadata": {},
          "output_type": "execute_result"
        }
      ],
      "source": [
        "model_predict(sentence_2)"
      ]
    },
    {
      "cell_type": "code",
      "execution_count": null,
      "metadata": {
        "id": "Z8W1CdoP2d9v",
        "outputId": "76a3076a-4548-42c1-d03f-e76c7cdd4481"
      },
      "outputs": [
        {
          "name": "stdout",
          "output_type": "stream",
          "text": [
            "1/1 [==============================] - 0s 25ms/step\n"
          ]
        },
        {
          "data": {
            "text/plain": [
              "True"
            ]
          },
          "execution_count": 95,
          "metadata": {},
          "output_type": "execute_result"
        }
      ],
      "source": [
        "model_predict(sentence_3)"
      ]
    },
    {
      "cell_type": "code",
      "execution_count": null,
      "metadata": {
        "id": "b9ooJsMS2d9w"
      },
      "outputs": [],
      "source": []
    }
  ],
  "metadata": {
    "accelerator": "GPU",
    "colab": {
      "provenance": [],
      "toc_visible": true
    },
    "gpuClass": "standard",
    "kernelspec": {
      "display_name": "Python 3 (ipykernel)",
      "language": "python",
      "name": "python3"
    },
    "language_info": {
      "codemirror_mode": {
        "name": "ipython",
        "version": 3
      },
      "file_extension": ".py",
      "mimetype": "text/x-python",
      "name": "python",
      "nbconvert_exporter": "python",
      "pygments_lexer": "ipython3",
      "version": "3.9.13"
    }
  },
  "nbformat": 4,
  "nbformat_minor": 0
}